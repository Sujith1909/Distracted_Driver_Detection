{
 "cells": [
  {
   "cell_type": "code",
   "execution_count": 4,
   "metadata": {},
   "outputs": [],
   "source": [
    "import tensorflow as tf"
   ]
  },
  {
   "cell_type": "code",
   "execution_count": 10,
   "metadata": {},
   "outputs": [],
   "source": [
    "import os\n",
    "import pandas as pd\n",
    "import pickle\n",
    "import numpy as np\n",
    "import seaborn as sns\n",
    "from sklearn.datasets import load_files\n",
    "#from keras.utils import np_utils\n",
    "import matplotlib.pyplot as plt\n",
    "from tensorflow.keras.layers import Conv2D, MaxPooling2D, GlobalAveragePooling2D\n",
    "from tensorflow.keras.layers import Dropout, Flatten, Dense\n",
    "from tensorflow.keras.models import Sequential\n",
    "from keras.utils.vis_utils import plot_model\n",
    "from tensorflow.keras.callbacks import ModelCheckpoint\n",
    "from tensorflow.keras.utils import to_categorical\n",
    "from sklearn.metrics import confusion_matrix\n",
    "from tensorflow.keras.preprocessing import image                  \n",
    "from tqdm import tqdm\n",
    "\n",
    "import seaborn as sns\n",
    "from sklearn.metrics import accuracy_score,precision_score,recall_score,f1_score"
   ]
  },
  {
   "cell_type": "code",
   "execution_count": 11,
   "metadata": {},
   "outputs": [],
   "source": [
    "%matplotlib inline"
   ]
  },
  {
   "cell_type": "code",
   "execution_count": 13,
   "metadata": {},
   "outputs": [],
   "source": [
    "DATA_DIR = \"D:\\Kaggle - Data/imgs\"\n",
    "TEST_DIR = os.path.join(DATA_DIR,\"test\")\n",
    "TRAIN_DIR = os.path.join(DATA_DIR,\"train\")\n",
    "MODEL_PATH = os.path.join(os.getcwd(),\"model\",\"self_trained\")\n",
    "PICKLE_DIR = os.path.join(os.getcwd(),\"pickle_files\")\n",
    "CSV_DIR = os.path.join(os.getcwd(),\"csv_files\")"
   ]
  },
  {
   "cell_type": "code",
   "execution_count": 14,
   "metadata": {},
   "outputs": [
    {
     "name": "stdout",
     "output_type": "stream",
     "text": [
      "Model path does not exists\n",
      "Model path created\n"
     ]
    }
   ],
   "source": [
    "if not os.path.exists(TEST_DIR):\n",
    "    print(\"Testing data does not exists\")\n",
    "if not os.path.exists(TRAIN_DIR):\n",
    "    print(\"Training data does not exists\")\n",
    "if not os.path.exists(MODEL_PATH):\n",
    "    print(\"Model path does not exists\")\n",
    "    os.makedirs(MODEL_PATH)\n",
    "    print(\"Model path c reated\")\n",
    "if not os.path.exists(PICKLE_DIR):\n",
    "    os.makedirs(PICKLE_DIR)\n",
    "if not os.path.exists(CSV_DIR):\n",
    "    os.makedirs(CSV_DIR)"
   ]
  },
  {
   "cell_type": "code",
   "execution_count": 15,
   "metadata": {},
   "outputs": [],
   "source": [
    "def create_csv(DATA_DIR,filename):\n",
    "    class_names = os.listdir(DATA_DIR)\n",
    "    data = list()\n",
    "    if(os.path.isdir(os.path.join(DATA_DIR,class_names[0]))):\n",
    "        for class_name in class_names:\n",
    "            file_names = os.listdir(os.path.join(DATA_DIR,class_name))\n",
    "            for file in file_names:\n",
    "                data.append({\n",
    "                    \"Filename\":os.path.join(DATA_DIR,class_name,file),\n",
    "                    \"ClassName\":class_name\n",
    "                })\n",
    "    else:\n",
    "        class_name = \"test\"\n",
    "        file_names = os.listdir(DATA_DIR)\n",
    "        for file in file_names:\n",
    "            data.append(({\n",
    "                \"FileName\":os.path.join(DATA_DIR,file),\n",
    "                \"ClassName\":class_name\n",
    "            }))\n",
    "    data = pd.DataFrame(data)\n",
    "    data.to_csv(os.path.join(os.getcwd(),\"csv_files\",filename),index=False)\n",
    "\n",
    "create_csv(TRAIN_DIR,\"train.csv\")\n",
    "create_csv(TEST_DIR,\"test.csv\")\n",
    "data_train = pd.read_csv(os.path.join(os.getcwd(),\"csv_files\",\"train.csv\"))\n",
    "data_test = pd.read_csv(os.path.join(os.getcwd(),\"csv_files\",\"test.csv\"))"
   ]
  },
  {
   "cell_type": "code",
   "execution_count": 16,
   "metadata": {},
   "outputs": [
    {
     "name": "stdout",
     "output_type": "stream",
     "text": [
      "<class 'pandas.core.frame.DataFrame'>\n",
      "RangeIndex: 22424 entries, 0 to 22423\n",
      "Data columns (total 2 columns):\n",
      " #   Column     Non-Null Count  Dtype \n",
      "---  ------     --------------  ----- \n",
      " 0   Filename   22424 non-null  object\n",
      " 1   ClassName  22424 non-null  object\n",
      "dtypes: object(2)\n",
      "memory usage: 350.5+ KB\n"
     ]
    }
   ],
   "source": [
    "data_train.info()"
   ]
  },
  {
   "cell_type": "code",
   "execution_count": 17,
   "metadata": {},
   "outputs": [
    {
     "data": {
      "text/plain": [
       "c0    2489\n",
       "c3    2346\n",
       "c4    2326\n",
       "c6    2325\n",
       "c2    2317\n",
       "c5    2312\n",
       "c1    2267\n",
       "c9    2129\n",
       "c7    2002\n",
       "c8    1911\n",
       "Name: ClassName, dtype: int64"
      ]
     },
     "execution_count": 17,
     "metadata": {},
     "output_type": "execute_result"
    }
   ],
   "source": [
    "data_train['ClassName'].value_counts()"
   ]
  },
  {
   "cell_type": "code",
   "execution_count": 19,
   "metadata": {},
   "outputs": [
    {
     "data": {
      "text/html": [
       "<div>\n",
       "<style scoped>\n",
       "    .dataframe tbody tr th:only-of-type {\n",
       "        vertical-align: middle;\n",
       "    }\n",
       "\n",
       "    .dataframe tbody tr th {\n",
       "        vertical-align: top;\n",
       "    }\n",
       "\n",
       "    .dataframe thead th {\n",
       "        text-align: right;\n",
       "    }\n",
       "</style>\n",
       "<table border=\"1\" class=\"dataframe\">\n",
       "  <thead>\n",
       "    <tr style=\"text-align: right;\">\n",
       "      <th></th>\n",
       "      <th>Filename</th>\n",
       "      <th>ClassName</th>\n",
       "    </tr>\n",
       "  </thead>\n",
       "  <tbody>\n",
       "    <tr>\n",
       "      <th>count</th>\n",
       "      <td>22424</td>\n",
       "      <td>22424</td>\n",
       "    </tr>\n",
       "    <tr>\n",
       "      <th>unique</th>\n",
       "      <td>22424</td>\n",
       "      <td>10</td>\n",
       "    </tr>\n",
       "    <tr>\n",
       "      <th>top</th>\n",
       "      <td>D:\\Kaggle - Data/imgs\\train\\c3\\img_53005.jpg</td>\n",
       "      <td>c0</td>\n",
       "    </tr>\n",
       "    <tr>\n",
       "      <th>freq</th>\n",
       "      <td>1</td>\n",
       "      <td>2489</td>\n",
       "    </tr>\n",
       "  </tbody>\n",
       "</table>\n",
       "</div>"
      ],
      "text/plain": [
       "                                            Filename ClassName\n",
       "count                                          22424     22424\n",
       "unique                                         22424        10\n",
       "top     D:\\Kaggle - Data/imgs\\train\\c3\\img_53005.jpg        c0\n",
       "freq                                               1      2489"
      ]
     },
     "execution_count": 19,
     "metadata": {},
     "output_type": "execute_result"
    }
   ],
   "source": [
    "data_train.describe()"
   ]
  },
  {
   "cell_type": "code",
   "execution_count": 21,
   "metadata": {},
   "outputs": [
    {
     "data": {
      "image/png": "[encoded data removed]",
      "text/plain": [
       "<Figure size 1440x1080 with 1 Axes>"
      ]
     },
     "metadata": {
      "needs_background": "light"
     },
     "output_type": "display_data"
    }
   ],
   "source": [
    "nf = data_train['ClassName'].value_counts(sort=False)\n",
    "labels = data_train['ClassName'].value_counts(sort=False).index.tolist()\n",
    "y = np.array(nf)\n",
    "width = 1/1.5\n",
    "N = len(y)\n",
    "x = range(N)\n",
    "\n",
    "fig = plt.figure(figsize=(20,15))\n",
    "ay = fig.add_subplot(211)\n",
    "\n",
    "plt.xticks(x, labels, size=15)\n",
    "plt.yticks(size=15)\n",
    "\n",
    "ay.bar(x, y, width, color=\"blue\")\n",
    "\n",
    "plt.title('Bar Chart',size=25)\n",
    "plt.xlabel('classname',size=15)\n",
    "plt.ylabel('Count',size=15)\n",
    "\n",
    "plt.show()"
   ]
  },
  {
   "cell_type": "code",
   "execution_count": 22,
   "metadata": {},
   "outputs": [
    {
     "data": {
      "text/html": [
       "<div>\n",
       "<style scoped>\n",
       "    .dataframe tbody tr th:only-of-type {\n",
       "        vertical-align: middle;\n",
       "    }\n",
       "\n",
       "    .dataframe tbody tr th {\n",
       "        vertical-align: top;\n",
       "    }\n",
       "\n",
       "    .dataframe thead th {\n",
       "        text-align: right;\n",
       "    }\n",
       "</style>\n",
       "<table border=\"1\" class=\"dataframe\">\n",
       "  <thead>\n",
       "    <tr style=\"text-align: right;\">\n",
       "      <th></th>\n",
       "      <th>FileName</th>\n",
       "      <th>ClassName</th>\n",
       "    </tr>\n",
       "  </thead>\n",
       "  <tbody>\n",
       "    <tr>\n",
       "      <th>0</th>\n",
       "      <td>D:\\Kaggle - Data/imgs\\test\\img_1.jpg</td>\n",
       "      <td>test</td>\n",
       "    </tr>\n",
       "    <tr>\n",
       "      <th>1</th>\n",
       "      <td>D:\\Kaggle - Data/imgs\\test\\img_10.jpg</td>\n",
       "      <td>test</td>\n",
       "    </tr>\n",
       "    <tr>\n",
       "      <th>2</th>\n",
       "      <td>D:\\Kaggle - Data/imgs\\test\\img_100.jpg</td>\n",
       "      <td>test</td>\n",
       "    </tr>\n",
       "    <tr>\n",
       "      <th>3</th>\n",
       "      <td>D:\\Kaggle - Data/imgs\\test\\img_1000.jpg</td>\n",
       "      <td>test</td>\n",
       "    </tr>\n",
       "    <tr>\n",
       "      <th>4</th>\n",
       "      <td>D:\\Kaggle - Data/imgs\\test\\img_100000.jpg</td>\n",
       "      <td>test</td>\n",
       "    </tr>\n",
       "  </tbody>\n",
       "</table>\n",
       "</div>"
      ],
      "text/plain": [
       "                                    FileName ClassName\n",
       "0       D:\\Kaggle - Data/imgs\\test\\img_1.jpg      test\n",
       "1      D:\\Kaggle - Data/imgs\\test\\img_10.jpg      test\n",
       "2     D:\\Kaggle - Data/imgs\\test\\img_100.jpg      test\n",
       "3    D:\\Kaggle - Data/imgs\\test\\img_1000.jpg      test\n",
       "4  D:\\Kaggle - Data/imgs\\test\\img_100000.jpg      test"
      ]
     },
     "execution_count": 22,
     "metadata": {},
     "output_type": "execute_result"
    }
   ],
   "source": [
    "data_test.head()"
   ]
  },
  {
   "cell_type": "code",
   "execution_count": 23,
   "metadata": {},
   "outputs": [
    {
     "data": {
      "text/plain": [
       "(79726, 2)"
      ]
     },
     "execution_count": 23,
     "metadata": {},
     "output_type": "execute_result"
    }
   ],
   "source": [
    "data_test.shape"
   ]
  },
  {
   "cell_type": "code",
   "execution_count": 24,
   "metadata": {},
   "outputs": [
    {
     "name": "stdout",
     "output_type": "stream",
     "text": [
      "{'c7': 0, 'c6': 1, 'c9': 2, 'c0': 3, 'c3': 4, 'c2': 5, 'c5': 6, 'c1': 7, 'c8': 8, 'c4': 9}\n"
     ]
    }
   ],
   "source": [
    "labels_list = list(set(data_train['ClassName'].values.tolist()))\n",
    "labels_id = {label_name:id for id,label_name in enumerate(labels_list)}\n",
    "print(labels_id)\n",
    "data_train['ClassName'].replace(labels_id,inplace=True)"
   ]
  },
  {
   "cell_type": "code",
   "execution_count": 25,
   "metadata": {},
   "outputs": [],
   "source": [
    "with open(os.path.join(os.getcwd(),\"pickle_files\",\"labels_list.pkl\"),\"wb\") as handle:\n",
    "    pickle.dump(labels_id,handle)"
   ]
  },
  {
   "cell_type": "code",
   "execution_count": 26,
   "metadata": {},
   "outputs": [
    {
     "name": "stdout",
     "output_type": "stream",
     "text": [
      "(22424, 10)\n"
     ]
    }
   ],
   "source": [
    "labels = to_categorical(data_train['ClassName'])\n",
    "print(labels.shape)"
   ]
  },
  {
   "cell_type": "code",
   "execution_count": 27,
   "metadata": {},
   "outputs": [],
   "source": [
    "from sklearn.model_selection import train_test_split\n",
    "\n",
    "xtrain,xtest,ytrain,ytest = train_test_split(data_train.iloc[:,0],labels,test_size = 0.2,random_state=42)"
   ]
  },
  {
   "cell_type": "code",
   "execution_count": 28,
   "metadata": {},
   "outputs": [],
   "source": [
    "def path_to_tensor(img_path):\n",
    "    # loads RGB image as PIL.Image.Image type\n",
    "    img = image.load_img(img_path, target_size=(64, 64))\n",
    "    # convert PIL.Image.Image type to 3D tensor with shape (64, 64, 3)\n",
    "    x = image.img_to_array(img)\n",
    "    # convert 3D tensor to 4D tensor with shape (1, 64,64, 3) and return 4D tensor\n",
    "    return np.expand_dims(x, axis=0)\n",
    "\n",
    "def paths_to_tensor(img_paths):\n",
    "    list_of_tensors = [path_to_tensor(img_path) for img_path in tqdm(img_paths)]\n",
    "    return np.vstack(list_of_tensors)"
   ]
  },
  {
   "cell_type": "code",
   "execution_count": 29,
   "metadata": {},
   "outputs": [
    {
     "name": "stderr",
     "output_type": "stream",
     "text": [
      "100%|████████████████████████████████████████████████████████████████████████████| 17939/17939 [06:42<00:00, 44.60it/s]\n"
     ]
    }
   ],
   "source": [
    "from PIL import ImageFile                            \n",
    "ImageFile.LOAD_TRUNCATED_IMAGES = True                 \n",
    "\n",
    "# pre-process the data for Keras\n",
    "train_tensors = paths_to_tensor(xtrain).astype('float32')/255 - 0.5"
   ]
  },
  {
   "cell_type": "code",
   "execution_count": 30,
   "metadata": {},
   "outputs": [
    {
     "name": "stderr",
     "output_type": "stream",
     "text": [
      "100%|██████████████████████████████████████████████████████████████████████████████| 4485/4485 [01:45<00:00, 42.47it/s]\n"
     ]
    }
   ],
   "source": [
    "valid_tensors = paths_to_tensor(xtest).astype('float32')/255 - 0.5"
   ]
  },
  {
   "cell_type": "code",
   "execution_count": 31,
   "metadata": {},
   "outputs": [
    {
     "name": "stdout",
     "output_type": "stream",
     "text": [
      "Model: \"sequential\"\n",
      "_________________________________________________________________\n",
      "Layer (type)                 Output Shape              Param #   \n",
      "=================================================================\n",
      "conv2d (Conv2D)              (None, 64, 64, 64)        832       \n",
      "_________________________________________________________________\n",
      "max_pooling2d (MaxPooling2D) (None, 32, 32, 64)        0         \n",
      "_________________________________________________________________\n",
      "conv2d_1 (Conv2D)            (None, 32, 32, 128)       32896     \n",
      "_________________________________________________________________\n",
      "max_pooling2d_1 (MaxPooling2 (None, 16, 16, 128)       0         \n",
      "_________________________________________________________________\n",
      "conv2d_2 (Conv2D)            (None, 16, 16, 256)       131328    \n",
      "_________________________________________________________________\n",
      "max_pooling2d_2 (MaxPooling2 (None, 8, 8, 256)         0         \n",
      "_________________________________________________________________\n",
      "conv2d_3 (Conv2D)            (None, 8, 8, 512)         524800    \n",
      "_________________________________________________________________\n",
      "max_pooling2d_3 (MaxPooling2 (None, 4, 4, 512)         0         \n",
      "_________________________________________________________________\n",
      "dropout (Dropout)            (None, 4, 4, 512)         0         \n",
      "_________________________________________________________________\n",
      "flatten (Flatten)            (None, 8192)              0         \n",
      "_________________________________________________________________\n",
      "dense (Dense)                (None, 500)               4096500   \n",
      "_________________________________________________________________\n",
      "dropout_1 (Dropout)          (None, 500)               0         \n",
      "_________________________________________________________________\n",
      "dense_1 (Dense)              (None, 10)                5010      \n",
      "=================================================================\n",
      "Total params: 4,791,366\n",
      "Trainable params: 4,791,366\n",
      "Non-trainable params: 0\n",
      "_________________________________________________________________\n"
     ]
    }
   ],
   "source": [
    "model = Sequential()\n",
    "\n",
    "model.add(Conv2D(filters=64, kernel_size=2, padding='same', activation='relu', input_shape=(64,64,3), kernel_initializer='glorot_normal'))\n",
    "model.add(MaxPooling2D(pool_size=2))\n",
    "model.add(Conv2D(filters=128, kernel_size=2, padding='same', activation='relu', kernel_initializer='glorot_normal'))\n",
    "model.add(MaxPooling2D(pool_size=2))\n",
    "model.add(Conv2D(filters=256, kernel_size=2, padding='same', activation='relu', kernel_initializer='glorot_normal'))\n",
    "model.add(MaxPooling2D(pool_size=2))\n",
    "model.add(Conv2D(filters=512, kernel_size=2, padding='same', activation='relu', kernel_initializer='glorot_normal'))\n",
    "model.add(MaxPooling2D(pool_size=2))\n",
    "model.add(Dropout(0.5))\n",
    "model.add(Flatten())\n",
    "model.add(Dense(500, activation='relu', kernel_initializer='glorot_normal'))\n",
    "model.add(Dropout(0.5))\n",
    "model.add(Dense(10, activation='softmax', kernel_initializer='glorot_normal'))\n",
    "\n",
    "\n",
    "model.summary()"
   ]
  },
  {
   "cell_type": "code",
   "execution_count": 33,
   "metadata": {},
   "outputs": [],
   "source": [
    "model.compile(optimizer='rmsprop', loss='categorical_crossentropy', metrics=['accuracy'])"
   ]
  },
  {
   "cell_type": "code",
   "execution_count": 34,
   "metadata": {},
   "outputs": [
    {
     "name": "stdout",
     "output_type": "stream",
     "text": [
      "WARNING:tensorflow:`period` argument is deprecated. Please use `save_freq` to specify the frequency in number of batches seen.\n"
     ]
    }
   ],
   "source": [
    "filepath = os.path.join(MODEL_PATH,\"distracted-{epoch:02d}-{val_accuracy:.2f}.hdf5\")\n",
    "checkpoint = ModelCheckpoint(filepath, monitor='val_accuracy', verbose=1, save_best_only=True, mode='max',period=1)\n",
    "callbacks_list = [checkpoint]"
   ]
  },
  {
   "cell_type": "code",
   "execution_count": 35,
   "metadata": {},
   "outputs": [
    {
     "name": "stdout",
     "output_type": "stream",
     "text": [
      "Epoch 1/25\n",
      "449/449 [==============================] - 179s 397ms/step - loss: 1.0017 - accuracy: 0.6478 - val_loss: 0.1909 - val_accuracy: 0.9489\n",
      "\n",
      "Epoch 00001: val_accuracy improved from -inf to 0.94894, saving model to C:\\Users\\blank\\data science\\Project _ ditstracted driver detection\\model\\self_trained\\distracted-01-0.95.hdf5\n",
      "Epoch 2/25\n",
      "449/449 [==============================] - 167s 371ms/step - loss: 0.2153 - accuracy: 0.9362 - val_loss: 0.0810 - val_accuracy: 0.9777\n",
      "\n",
      "Epoch 00002: val_accuracy improved from 0.94894 to 0.97770, saving model to C:\\Users\\blank\\data science\\Project _ ditstracted driver detection\\model\\self_trained\\distracted-02-0.98.hdf5\n",
      "Epoch 3/25\n",
      "449/449 [==============================] - 163s 363ms/step - loss: 0.1195 - accuracy: 0.9654 - val_loss: 0.0642 - val_accuracy: 0.9837\n",
      "\n",
      "Epoch 00003: val_accuracy improved from 0.97770 to 0.98372, saving model to C:\\Users\\blank\\data science\\Project _ ditstracted driver detection\\model\\self_trained\\distracted-03-0.98.hdf5\n",
      "Epoch 4/25\n",
      "449/449 [==============================] - 166s 369ms/step - loss: 0.0835 - accuracy: 0.9755 - val_loss: 0.0532 - val_accuracy: 0.9873\n",
      "\n",
      "Epoch 00004: val_accuracy improved from 0.98372 to 0.98729, saving model to C:\\Users\\blank\\data science\\Project _ ditstracted driver detection\\model\\self_trained\\distracted-04-0.99.hdf5\n",
      "Epoch 5/25\n",
      "449/449 [==============================] - 179s 399ms/step - loss: 0.0711 - accuracy: 0.9796 - val_loss: 0.0440 - val_accuracy: 0.9906\n",
      "\n",
      "Epoch 00005: val_accuracy improved from 0.98729 to 0.99064, saving model to C:\\Users\\blank\\data science\\Project _ ditstracted driver detection\\model\\self_trained\\distracted-05-0.99.hdf5\n",
      "Epoch 6/25\n",
      "449/449 [==============================] - 189s 421ms/step - loss: 0.0620 - accuracy: 0.9824 - val_loss: 0.0725 - val_accuracy: 0.9837\n",
      "\n",
      "Epoch 00006: val_accuracy did not improve from 0.99064\n",
      "Epoch 7/25\n",
      "449/449 [==============================] - 187s 417ms/step - loss: 0.0552 - accuracy: 0.9838 - val_loss: 0.0489 - val_accuracy: 0.9893\n",
      "\n",
      "Epoch 00007: val_accuracy did not improve from 0.99064\n",
      "Epoch 8/25\n",
      "449/449 [==============================] - 203s 453ms/step - loss: 0.0501 - accuracy: 0.9858 - val_loss: 0.0586 - val_accuracy: 0.9900\n",
      "\n",
      "Epoch 00008: val_accuracy did not improve from 0.99064\n",
      "Epoch 9/25\n",
      "449/449 [==============================] - 183s 408ms/step - loss: 0.0486 - accuracy: 0.9871 - val_loss: 0.0705 - val_accuracy: 0.9817\n",
      "\n",
      "Epoch 00009: val_accuracy did not improve from 0.99064\n",
      "Epoch 10/25\n",
      "449/449 [==============================] - 169s 377ms/step - loss: 0.0411 - accuracy: 0.9885 - val_loss: 0.0885 - val_accuracy: 0.9886\n",
      "\n",
      "Epoch 00010: val_accuracy did not improve from 0.99064\n",
      "Epoch 11/25\n",
      "449/449 [==============================] - 167s 373ms/step - loss: 0.0458 - accuracy: 0.9889 - val_loss: 0.0341 - val_accuracy: 0.9926\n",
      "\n",
      "Epoch 00011: val_accuracy improved from 0.99064 to 0.99264, saving model to C:\\Users\\blank\\data science\\Project _ ditstracted driver detection\\model\\self_trained\\distracted-11-0.99.hdf5\n",
      "Epoch 12/25\n",
      "449/449 [==============================] - 167s 371ms/step - loss: 0.0398 - accuracy: 0.9900 - val_loss: 0.0500 - val_accuracy: 0.9915\n",
      "\n",
      "Epoch 00012: val_accuracy did not improve from 0.99264\n",
      "Epoch 13/25\n",
      "449/449 [==============================] - 179s 399ms/step - loss: 0.0434 - accuracy: 0.9900 - val_loss: 0.0441 - val_accuracy: 0.9920\n",
      "\n",
      "Epoch 00013: val_accuracy did not improve from 0.99264\n",
      "Epoch 14/25\n",
      "449/449 [==============================] - 186s 414ms/step - loss: 0.0394 - accuracy: 0.9905 - val_loss: 0.0737 - val_accuracy: 0.9889\n",
      "\n",
      "Epoch 00014: val_accuracy did not improve from 0.99264\n",
      "Epoch 15/25\n",
      "449/449 [==============================] - 197s 438ms/step - loss: 0.0462 - accuracy: 0.9891 - val_loss: 0.0608 - val_accuracy: 0.9909\n",
      "\n",
      "Epoch 00015: val_accuracy did not improve from 0.99264\n",
      "Epoch 16/25\n",
      "449/449 [==============================] - 185s 413ms/step - loss: 0.0379 - accuracy: 0.9915 - val_loss: 0.0354 - val_accuracy: 0.9940\n",
      "\n",
      "Epoch 00016: val_accuracy improved from 0.99264 to 0.99398, saving model to C:\\Users\\blank\\data science\\Project _ ditstracted driver detection\\model\\self_trained\\distracted-16-0.99.hdf5\n",
      "Epoch 17/25\n",
      "449/449 [==============================] - 186s 415ms/step - loss: 0.0368 - accuracy: 0.9919 - val_loss: 0.0493 - val_accuracy: 0.9942\n",
      "\n",
      "Epoch 00017: val_accuracy improved from 0.99398 to 0.99420, saving model to C:\\Users\\blank\\data science\\Project _ ditstracted driver detection\\model\\self_trained\\distracted-17-0.99.hdf5\n",
      "Epoch 18/25\n",
      "449/449 [==============================] - 241s 536ms/step - loss: 0.0383 - accuracy: 0.9917 - val_loss: 0.0720 - val_accuracy: 0.9938\n",
      "\n",
      "Epoch 00018: val_accuracy did not improve from 0.99420\n",
      "Epoch 19/25\n",
      "449/449 [==============================] - 281s 625ms/step - loss: 0.0429 - accuracy: 0.9916 - val_loss: 0.0375 - val_accuracy: 0.9935\n",
      "\n",
      "Epoch 00019: val_accuracy did not improve from 0.99420\n",
      "Epoch 20/25\n",
      "449/449 [==============================] - 293s 652ms/step - loss: 0.0397 - accuracy: 0.9914 - val_loss: 0.0569 - val_accuracy: 0.9918\n",
      "\n",
      "Epoch 00020: val_accuracy did not improve from 0.99420\n",
      "Epoch 21/25\n",
      "449/449 [==============================] - 329s 732ms/step - loss: 0.0413 - accuracy: 0.9924 - val_loss: 0.0492 - val_accuracy: 0.9951\n",
      "\n",
      "Epoch 00021: val_accuracy improved from 0.99420 to 0.99509, saving model to C:\\Users\\blank\\data science\\Project _ ditstracted driver detection\\model\\self_trained\\distracted-21-1.00.hdf5\n",
      "Epoch 22/25\n",
      "449/449 [==============================] - 387s 861ms/step - loss: 0.0488 - accuracy: 0.9914 - val_loss: 0.0707 - val_accuracy: 0.9918\n",
      "\n",
      "Epoch 00022: val_accuracy did not improve from 0.99509\n",
      "Epoch 23/25\n",
      "449/449 [==============================] - 382s 851ms/step - loss: 0.0401 - accuracy: 0.9917 - val_loss: 0.0491 - val_accuracy: 0.9951\n",
      "\n",
      "Epoch 00023: val_accuracy did not improve from 0.99509\n",
      "Epoch 24/25\n",
      "449/449 [==============================] - 192s 426ms/step - loss: 0.0373 - accuracy: 0.9929 - val_loss: 0.0697 - val_accuracy: 0.9958\n",
      "\n",
      "Epoch 00024: val_accuracy improved from 0.99509 to 0.99576, saving model to C:\\Users\\blank\\data science\\Project _ ditstracted driver detection\\model\\self_trained\\distracted-24-1.00.hdf5\n",
      "Epoch 25/25\n",
      "449/449 [==============================] - 175s 390ms/step - loss: 0.0392 - accuracy: 0.9937 - val_loss: 0.0473 - val_accuracy: 0.9960\n",
      "\n",
      "Epoch 00025: val_accuracy improved from 0.99576 to 0.99599, saving model to C:\\Users\\blank\\data science\\Project _ ditstracted driver detection\\model\\self_trained\\distracted-25-1.00.hdf5\n"
     ]
    }
   ],
   "source": [
    "model_history = model.fit(train_tensors,ytrain,validation_data = (valid_tensors, ytest),epochs=25, batch_size=40, shuffle=True,callbacks=callbacks_list)"
   ]
  },
  {
   "cell_type": "code",
   "execution_count": 36,
   "metadata": {},
   "outputs": [
    {
     "data": {
      "image/png": "[encoded data removed]",
      "text/plain": [
       "<Figure size 864x864 with 2 Axes>"
      ]
     },
     "metadata": {
      "needs_background": "light"
     },
     "output_type": "display_data"
    }
   ],
   "source": [
    "fig, (ax1, ax2) = plt.subplots(2, 1, figsize=(12, 12))\n",
    "ax1.plot(model_history.history['loss'], color='b', label=\"Training loss\")\n",
    "ax1.plot(model_history.history['val_loss'], color='r', label=\"validation loss\")\n",
    "ax1.set_xticks(np.arange(1, 25, 1))\n",
    "ax1.set_yticks(np.arange(0, 1, 0.1))\n",
    "\n",
    "ax2.plot(model_history.history['accuracy'], color='b', label=\"Training accuracy\")\n",
    "ax2.plot(model_history.history['val_accuracy'], color='r',label=\"Validation accuracy\")\n",
    "ax2.set_xticks(np.arange(1, 25, 1))\n",
    "\n",
    "legend = plt.legend(loc='best', shadow=True)\n",
    "plt.tight_layout()\n",
    "plt.show()"
   ]
  },
  {
   "cell_type": "code",
   "execution_count": 37,
   "metadata": {},
   "outputs": [],
   "source": [
    "def print_confusion_matrix(confusion_matrix, class_names, figsize = (10,7), fontsize=14):\n",
    "    df_cm = pd.DataFrame(\n",
    "        confusion_matrix, index=class_names, columns=class_names, \n",
    "    )\n",
    "    fig = plt.figure(figsize=figsize)\n",
    "    try:\n",
    "        heatmap = sns.heatmap(df_cm, annot=True, fmt=\"d\")\n",
    "    except ValueError:\n",
    "        raise ValueError(\"Confusion matrix values must be integers.\")\n",
    "    heatmap.yaxis.set_ticklabels(heatmap.yaxis.get_ticklabels(), rotation=0, ha='right', fontsize=fontsize)\n",
    "    heatmap.xaxis.set_ticklabels(heatmap.xaxis.get_ticklabels(), rotation=45, ha='right', fontsize=fontsize)\n",
    "    plt.ylabel('True label')\n",
    "    plt.xlabel('Predicted label')\n",
    "    fig.savefig(os.path.join(MODEL_PATH,\"confusion_matrix.png\"))\n",
    "    return fig"
   ]
  },
  {
   "cell_type": "code",
   "execution_count": 38,
   "metadata": {},
   "outputs": [],
   "source": [
    "def print_heatmap(n_labels, n_predictions, class_names):\n",
    "    labels = n_labels #sess.run(tf.argmax(n_labels, 1))\n",
    "    predictions = n_predictions #sess.run(tf.argmax(n_predictions, 1))\n",
    "\n",
    "#     confusion_matrix = sess.run(tf.contrib.metrics.confusion_matrix(labels, predictions))\n",
    "    matrix = confusion_matrix(labels.argmax(axis=1),predictions.argmax(axis=1))\n",
    "    row_sum = np.sum(matrix, axis = 1)\n",
    "    w, h = matrix.shape\n",
    "\n",
    "    c_m = np.zeros((w, h))\n",
    "\n",
    "    for i in range(h):\n",
    "        c_m[i] = matrix[i] * 100 / row_sum[i]\n",
    "\n",
    "    c = c_m.astype(dtype = np.uint8)\n",
    "\n",
    "    \n",
    "    heatmap = print_confusion_matrix(c, class_names, figsize=(18,10), fontsize=20)"
   ]
  },
  {
   "cell_type": "code",
   "execution_count": 39,
   "metadata": {},
   "outputs": [],
   "source": [
    "class_names = list()\n",
    "for name,idx in labels_id.items():\n",
    "    class_names.append(name)\n",
    "# print(class_names)\n",
    "ypred = model.predict(valid_tensors)"
   ]
  },
  {
   "cell_type": "code",
   "execution_count": 40,
   "metadata": {},
   "outputs": [
    {
     "data": {
      "image/png": "[encoded data removed]",
      "text/plain": [
       "<Figure size 1296x720 with 2 Axes>"
      ]
     },
     "metadata": {
      "needs_background": "light"
     },
     "output_type": "display_data"
    }
   ],
   "source": [
    "print_heatmap(ytest,ypred,class_names)"
   ]
  },
  {
   "cell_type": "code",
   "execution_count": 41,
   "metadata": {},
   "outputs": [],
   "source": [
    "ypred_class = np.argmax(ypred,axis=1)\n",
    "# print(ypred_class[:10])\n",
    "ytest = np.argmax(ytest,axis=1)"
   ]
  },
  {
   "cell_type": "code",
   "execution_count": 42,
   "metadata": {},
   "outputs": [
    {
     "name": "stdout",
     "output_type": "stream",
     "text": [
      "Accuracy: 0.995987\n",
      "Precision: 0.995995\n",
      "Recall: 0.995987\n",
      "F1 score: 0.995983\n"
     ]
    }
   ],
   "source": [
    "accuracy = accuracy_score(ytest,ypred_class)\n",
    "print('Accuracy: %f' % accuracy)\n",
    "# precision tp / (tp + fp)\n",
    "precision = precision_score(ytest, ypred_class,average='weighted')\n",
    "print('Precision: %f' % precision)\n",
    "# recall: tp / (tp + fn)\n",
    "recall = recall_score(ytest,ypred_class,average='weighted')\n",
    "print('Recall: %f' % recall)\n",
    "# f1: 2 tp / (2 tp + fp + fn)\n",
    "f1 = f1_score(ytest,ypred_class,average='weighted')\n",
    "print('F1 score: %f' % f1)"
   ]
  },
  {
   "cell_type": "code",
   "execution_count": null,
   "metadata": {},
   "outputs": [],
   "source": []
  }
 ],
 "metadata": {
  "kernelspec": {
   "display_name": "Python 3",
   "language": "python",
   "name": "python3"
  },
  "language_info": {
   "codemirror_mode": {
    "name": "ipython",
    "version": 3
   },
   "file_extension": ".py",
   "mimetype": "text/x-python",
   "name": "python",
   "nbconvert_exporter": "python",
   "pygments_lexer": "ipython3",
   "version": "3.8.5"
  }
 },
 "nbformat": 4,
 "nbformat_minor": 4
}
